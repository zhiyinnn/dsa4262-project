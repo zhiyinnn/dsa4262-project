{
  "cells": [
    {
      "cell_type": "code",
      "execution_count": null,
      "id": "f7e17d1b",
      "metadata": {
        "id": "f7e17d1b"
      },
      "outputs": [],
      "source": [
        "import pandas as pd\n",
        "import matplotlib as mat\n",
        "import matplotlib.pyplot as plt\n",
        "import numpy as np\n",
        "import seaborn as sns\n",
        "%matplotlib inline\n",
        "\n",
        "pd.options.display.max_colwidth = 100\n",
        "\n",
        "import random\n",
        "import os\n",
        "\n",
        "from numpy.random import seed\n",
        "seed(42)\n",
        "\n",
        "random.seed(42)\n",
        "os.environ['PYTHONHASHSEED'] = str(42)\n",
        "os.environ['TF_DETERMINISTIC_OPS'] = '1'\n",
        "\n",
        "from sklearn.model_selection import train_test_split\n",
        "from sklearn import metrics\n",
        "from sklearn.metrics import accuracy_score\n",
        "\n",
        "import tensorflow as tf\n",
        "print(tf.test.is_gpu_available())\n",
        "print(\"Num GPUs Available: \", len(tf.config.list_physical_devices('GPU')))\n",
        "print(tf.__version__)\n",
        "from tensorflow import keras\n",
        "from tensorflow.keras import layers\n",
        "from tensorflow.keras import callbacks\n",
        "from tensorflow.keras.models import Modelfrom tensorflow.keras.preprocessing.image import ImageDataGenerator\n",
        "\n",
        "import glob\n",
        "\n",
        "\n",
        "from tensorflow.random import set_seed\n",
        "set_seed(42)\n",
        "\n",
        "import warnings\n",
        "warnings.filterwarnings('ignore')"
      ]
    },
    {
      "cell_type": "code",
      "execution_count": null,
      "id": "6b46ef11",
      "metadata": {
        "id": "6b46ef11",
        "outputId": "d63c5c9f-996e-4257-e702-9523ac00f001"
      },
      "outputs": [
        {
          "data": {
            "text/plain": [
              "class\n",
              "Pneumonia       3875\n",
              "Normal          1341\n",
              "Tuberculosis     650\n",
              "COVID-19         460\n",
              "Name: count, dtype: int64"
            ]
          },
          "execution_count": 57,
          "metadata": {},
          "output_type": "execute_result"
        }
      ],
      "source": [
        "IMG_SIZE = 150\n",
        "BATCH = 32\n",
        "SEED = 42\n",
        "main_path_original = \"./resize_xray/chest_xray\"\n",
        "main_path_gan = \"./resize_xray/chest_xray_gan\"\n",
        "main_path_diffusion = \"./resize_xray/chest_xray_diffusion\"\n",
        "\n",
        "train_path = os.path.join(main_path_original,\"train\")\n",
        "val_path=os.path.join(main_path_original,\"val\")\n",
        "test_path=os.path.join(main_path_original,\"test\")\n",
        "og_train_normal = glob.glob(train_path+\"/NORMAL/*.jpeg\")\n",
        "og_train_pneumonia = glob.glob(train_path+\"/PNEUMONIA/*.jpeg\")\n",
        "og_train_covid19 = glob.glob(train_path+\"/COVID19/*.jpg\")\n",
        "og_train_tb = glob.glob(train_path+\"/TURBERCULOSIS/*.png\")\n",
        "\n",
        "test_normal = glob.glob(test_path+\"/NORMAL/*.jpeg\")\n",
        "test_pneumonia = glob.glob(test_path+\"/PNEUMONIA/*.jpeg\")\n",
        "test_covid19 = glob.glob(test_path+\"/COVID19/*.jpg\")\n",
        "test_tb = glob.glob(test_path+\"/TURBERCULOSIS/*.png\")\n",
        "\n",
        "val_normal = glob.glob(val_path+\"/NORMAL/*.jpeg\")\n",
        "val_pneumonia = glob.glob(val_path+\"/PNEUMONIA/*.jpeg\")\n",
        "val_covid19 = glob.glob(val_path+\"/COVID19/*.jpg\")\n",
        "val_tb = glob.glob(val_path+\"/TURBERCULOSIS/*.png\")\n",
        "\n",
        "gan_train_normal = glob.glob(main_path_gan+\"/NORMAL/*.png\")\n",
        "gan_train_covid = glob.glob(main_path_gan+\"/COVID19/*.png\")\n",
        "gan_train_tb = glob.glob(main_path_gan+\"/TB/*.png\")\n",
        "\n",
        "diffusion_train_normal = glob.glob(main_path_diffusion+\"/NORMAL/*.png\")\n",
        "diffusion_train_covid = glob.glob(main_path_diffusion+\"/COVID19/*.png\")\n",
        "diffusion_train_tb = glob.glob(main_path_diffusion+\"/TB/*.png\")\n",
        "\n",
        "og_train_list = [x for x in og_train_normal]\n",
        "og_train_list.extend([x for x in og_train_pneumonia] + [x for x in og_train_covid19] + [x for x in og_train_tb])\n",
        "\n",
        "og_df_train = pd.DataFrame(np.concatenate([['Normal']*len(og_train_normal) , ['Pneumonia']*len(og_train_pneumonia), ['COVID-19']*len(og_train_covid19), ['Tuberculosis']*len(og_train_tb)]), columns = ['class'])\n",
        "og_df_train['image'] = [x for x in og_train_list]\n",
        "\n",
        "test_list = [x for x in test_normal]\n",
        "test_list.extend([x for x in test_pneumonia]+ [x for x in test_covid19] + [x for x in test_tb])\n",
        "\n",
        "df_test = pd.DataFrame(np.concatenate([['Normal']*len(test_normal) , ['Pneumonia']*len(test_pneumonia), ['COVID-19']*len(test_covid19), ['Tuberculosis']*len(test_tb)]), columns = ['class'])\n",
        "df_test['image'] = [x for x in test_list]\n",
        "\n",
        "val_list = [x for x in val_normal]\n",
        "val_list.extend([x for x in val_pneumonia]+ [x for x in val_covid19] + [x for x in val_tb])\n",
        "\n",
        "df_val = pd.DataFrame(np.concatenate([['Normal']*len(val_normal) , ['Pneumonia']*len(val_pneumonia), ['COVID-19']*len(val_covid19), ['Tuberculosis']*len(val_tb)]), columns = ['class'])\n",
        "df_val['image'] = [x for x in val_list]\n",
        "\n",
        "og_df_train['class'].value_counts()"
      ]
    },
    {
      "cell_type": "code",
      "execution_count": null,
      "id": "dde68390",
      "metadata": {
        "id": "dde68390",
        "outputId": "129ebf9d-901b-457d-d8c0-3016750d10d3"
      },
      "outputs": [
        {
          "data": {
            "text/plain": [
              "class\n",
              "Tuberculosis    12\n",
              "COVID-19        10\n",
              "Normal           8\n",
              "Pneumonia        8\n",
              "Name: count, dtype: int64"
            ]
          },
          "execution_count": 58,
          "metadata": {},
          "output_type": "execute_result"
        }
      ],
      "source": [
        "df_val['class'].value_counts()"
      ]
    },
    {
      "cell_type": "code",
      "execution_count": null,
      "id": "9e473523",
      "metadata": {
        "id": "9e473523",
        "outputId": "46d26f07-5950-443e-cb9a-9596ddc307a7"
      },
      "outputs": [
        {
          "data": {
            "text/plain": [
              "class\n",
              "Pneumonia       390\n",
              "Normal          234\n",
              "COVID-19        106\n",
              "Tuberculosis     41\n",
              "Name: count, dtype: int64"
            ]
          },
          "execution_count": 59,
          "metadata": {},
          "output_type": "execute_result"
        }
      ],
      "source": [
        "df_test['class'].value_counts()"
      ]
    },
    {
      "cell_type": "code",
      "execution_count": null,
      "id": "95bcfb3a",
      "metadata": {
        "id": "95bcfb3a",
        "outputId": "0f5bfd74-27ba-4354-9a6b-e56f0fd9225f"
      },
      "outputs": [
        {
          "name": "stdout",
          "output_type": "stream",
          "text": [
            "class\n",
            "Tuberculosis    3875\n",
            "Normal          3875\n",
            "COVID-19        3875\n",
            "Pneumonia       3875\n",
            "Name: count, dtype: int64\n"
          ]
        },
        {
          "data": {
            "text/html": [
              "<div>\n",
              "<style scoped>\n",
              "    .dataframe tbody tr th:only-of-type {\n",
              "        vertical-align: middle;\n",
              "    }\n",
              "\n",
              "    .dataframe tbody tr th {\n",
              "        vertical-align: top;\n",
              "    }\n",
              "\n",
              "    .dataframe thead th {\n",
              "        text-align: right;\n",
              "    }\n",
              "</style>\n",
              "<table border=\"1\" class=\"dataframe\">\n",
              "  <thead>\n",
              "    <tr style=\"text-align: right;\">\n",
              "      <th></th>\n",
              "      <th>class</th>\n",
              "      <th>image</th>\n",
              "    </tr>\n",
              "  </thead>\n",
              "  <tbody>\n",
              "    <tr>\n",
              "      <th>0</th>\n",
              "      <td>Pneumonia</td>\n",
              "      <td>./resize_xray/chest_xray\\train/PNEUMONIA\\person826_bacteria_2737.jpeg</td>\n",
              "    </tr>\n",
              "    <tr>\n",
              "      <th>1</th>\n",
              "      <td>COVID-19</td>\n",
              "      <td>./resize_xray/chest_xray\\train/COVID19\\COVID19(327).jpg</td>\n",
              "    </tr>\n",
              "    <tr>\n",
              "      <th>2</th>\n",
              "      <td>COVID-19</td>\n",
              "      <td>./resize_xray/chest_xray_gan/COVID19\\image_1529.png</td>\n",
              "    </tr>\n",
              "    <tr>\n",
              "      <th>3</th>\n",
              "      <td>Normal</td>\n",
              "      <td>./resize_xray/chest_xray\\train/NORMAL\\NORMAL2-IM-1350-0001.jpeg</td>\n",
              "    </tr>\n",
              "    <tr>\n",
              "      <th>4</th>\n",
              "      <td>Normal</td>\n",
              "      <td>./resize_xray/chest_xray\\train/NORMAL\\IM-0553-0001-0001.jpeg</td>\n",
              "    </tr>\n",
              "    <tr>\n",
              "      <th>...</th>\n",
              "      <td>...</td>\n",
              "      <td>...</td>\n",
              "    </tr>\n",
              "    <tr>\n",
              "      <th>15495</th>\n",
              "      <td>Tuberculosis</td>\n",
              "      <td>./resize_xray/chest_xray_gan/TB\\image_468.png</td>\n",
              "    </tr>\n",
              "    <tr>\n",
              "      <th>15496</th>\n",
              "      <td>Pneumonia</td>\n",
              "      <td>./resize_xray/chest_xray\\train/PNEUMONIA\\person1711_bacteria_4527.jpeg</td>\n",
              "    </tr>\n",
              "    <tr>\n",
              "      <th>15497</th>\n",
              "      <td>COVID-19</td>\n",
              "      <td>./resize_xray/chest_xray_gan/COVID19\\image_1294.png</td>\n",
              "    </tr>\n",
              "    <tr>\n",
              "      <th>15498</th>\n",
              "      <td>Tuberculosis</td>\n",
              "      <td>./resize_xray/chest_xray_gan/TB\\image_879.png</td>\n",
              "    </tr>\n",
              "    <tr>\n",
              "      <th>15499</th>\n",
              "      <td>Pneumonia</td>\n",
              "      <td>./resize_xray/chest_xray\\train/PNEUMONIA\\person77_bacteria_375.jpeg</td>\n",
              "    </tr>\n",
              "  </tbody>\n",
              "</table>\n",
              "<p>15500 rows × 2 columns</p>\n",
              "</div>"
            ],
            "text/plain": [
              "              class  \\\n",
              "0         Pneumonia   \n",
              "1          COVID-19   \n",
              "2          COVID-19   \n",
              "3            Normal   \n",
              "4            Normal   \n",
              "...             ...   \n",
              "15495  Tuberculosis   \n",
              "15496     Pneumonia   \n",
              "15497      COVID-19   \n",
              "15498  Tuberculosis   \n",
              "15499     Pneumonia   \n",
              "\n",
              "                                                                        image  \n",
              "0       ./resize_xray/chest_xray\\train/PNEUMONIA\\person826_bacteria_2737.jpeg  \n",
              "1                     ./resize_xray/chest_xray\\train/COVID19\\COVID19(327).jpg  \n",
              "2                         ./resize_xray/chest_xray_gan/COVID19\\image_1529.png  \n",
              "3             ./resize_xray/chest_xray\\train/NORMAL\\NORMAL2-IM-1350-0001.jpeg  \n",
              "4                ./resize_xray/chest_xray\\train/NORMAL\\IM-0553-0001-0001.jpeg  \n",
              "...                                                                       ...  \n",
              "15495                           ./resize_xray/chest_xray_gan/TB\\image_468.png  \n",
              "15496  ./resize_xray/chest_xray\\train/PNEUMONIA\\person1711_bacteria_4527.jpeg  \n",
              "15497                     ./resize_xray/chest_xray_gan/COVID19\\image_1294.png  \n",
              "15498                           ./resize_xray/chest_xray_gan/TB\\image_879.png  \n",
              "15499     ./resize_xray/chest_xray\\train/PNEUMONIA\\person77_bacteria_375.jpeg  \n",
              "\n",
              "[15500 rows x 2 columns]"
            ]
          },
          "metadata": {},
          "output_type": "display_data"
        }
      ],
      "source": [
        "#getting df for original + gan\n",
        "\n",
        "gan_train_list = [x for x in gan_train_normal]\n",
        "gan_train_list.extend([x for x in gan_train_covid] + [x for x in gan_train_tb])\n",
        "\n",
        "gan_df_train = pd.DataFrame(np.concatenate([['Normal']*len(gan_train_normal) , ['COVID-19']*len(gan_train_covid), ['Tuberculosis']*len(gan_train_tb)]), columns = ['class'])\n",
        "gan_df_train['image'] = [x for x in gan_train_list]\n",
        "\n",
        "gan_df_train = pd.concat([og_df_train, gan_df_train], ignore_index=True)\n",
        "gan_df_train = gan_df_train.sample(frac=1, random_state=42).reset_index(drop=True)\n",
        "\n",
        "print(gan_df_train['class'].value_counts())\n",
        "display(diffusion_df_train)"
      ]
    },
    {
      "cell_type": "code",
      "execution_count": null,
      "id": "dff07e8f",
      "metadata": {
        "id": "dff07e8f",
        "outputId": "d85aee06-fac9-4cb8-963e-a32d054bd85c"
      },
      "outputs": [
        {
          "name": "stdout",
          "output_type": "stream",
          "text": [
            "class\n",
            "Pneumonia       3875\n",
            "COVID-19        3875\n",
            "Normal          3875\n",
            "Tuberculosis    3875\n",
            "Name: count, dtype: int64\n"
          ]
        },
        {
          "data": {
            "text/html": [
              "<div>\n",
              "<style scoped>\n",
              "    .dataframe tbody tr th:only-of-type {\n",
              "        vertical-align: middle;\n",
              "    }\n",
              "\n",
              "    .dataframe tbody tr th {\n",
              "        vertical-align: top;\n",
              "    }\n",
              "\n",
              "    .dataframe thead th {\n",
              "        text-align: right;\n",
              "    }\n",
              "</style>\n",
              "<table border=\"1\" class=\"dataframe\">\n",
              "  <thead>\n",
              "    <tr style=\"text-align: right;\">\n",
              "      <th></th>\n",
              "      <th>class</th>\n",
              "      <th>image</th>\n",
              "    </tr>\n",
              "  </thead>\n",
              "  <tbody>\n",
              "    <tr>\n",
              "      <th>0</th>\n",
              "      <td>Pneumonia</td>\n",
              "      <td>./resize_xray/chest_xray\\train/PNEUMONIA\\person826_bacteria_2737.jpeg</td>\n",
              "    </tr>\n",
              "    <tr>\n",
              "      <th>1</th>\n",
              "      <td>COVID-19</td>\n",
              "      <td>./resize_xray/chest_xray\\train/COVID19\\COVID19(327).jpg</td>\n",
              "    </tr>\n",
              "    <tr>\n",
              "      <th>2</th>\n",
              "      <td>COVID-19</td>\n",
              "      <td>./resize_xray/chest_xray_gan/COVID19\\image_1529.png</td>\n",
              "    </tr>\n",
              "    <tr>\n",
              "      <th>3</th>\n",
              "      <td>Normal</td>\n",
              "      <td>./resize_xray/chest_xray\\train/NORMAL\\NORMAL2-IM-1350-0001.jpeg</td>\n",
              "    </tr>\n",
              "    <tr>\n",
              "      <th>4</th>\n",
              "      <td>Normal</td>\n",
              "      <td>./resize_xray/chest_xray\\train/NORMAL\\IM-0553-0001-0001.jpeg</td>\n",
              "    </tr>\n",
              "    <tr>\n",
              "      <th>...</th>\n",
              "      <td>...</td>\n",
              "      <td>...</td>\n",
              "    </tr>\n",
              "    <tr>\n",
              "      <th>15495</th>\n",
              "      <td>Tuberculosis</td>\n",
              "      <td>./resize_xray/chest_xray_gan/TB\\image_468.png</td>\n",
              "    </tr>\n",
              "    <tr>\n",
              "      <th>15496</th>\n",
              "      <td>Pneumonia</td>\n",
              "      <td>./resize_xray/chest_xray\\train/PNEUMONIA\\person1711_bacteria_4527.jpeg</td>\n",
              "    </tr>\n",
              "    <tr>\n",
              "      <th>15497</th>\n",
              "      <td>COVID-19</td>\n",
              "      <td>./resize_xray/chest_xray_gan/COVID19\\image_1294.png</td>\n",
              "    </tr>\n",
              "    <tr>\n",
              "      <th>15498</th>\n",
              "      <td>Tuberculosis</td>\n",
              "      <td>./resize_xray/chest_xray_gan/TB\\image_879.png</td>\n",
              "    </tr>\n",
              "    <tr>\n",
              "      <th>15499</th>\n",
              "      <td>Pneumonia</td>\n",
              "      <td>./resize_xray/chest_xray\\train/PNEUMONIA\\person77_bacteria_375.jpeg</td>\n",
              "    </tr>\n",
              "  </tbody>\n",
              "</table>\n",
              "<p>15500 rows × 2 columns</p>\n",
              "</div>"
            ],
            "text/plain": [
              "              class  \\\n",
              "0         Pneumonia   \n",
              "1          COVID-19   \n",
              "2          COVID-19   \n",
              "3            Normal   \n",
              "4            Normal   \n",
              "...             ...   \n",
              "15495  Tuberculosis   \n",
              "15496     Pneumonia   \n",
              "15497      COVID-19   \n",
              "15498  Tuberculosis   \n",
              "15499     Pneumonia   \n",
              "\n",
              "                                                                        image  \n",
              "0       ./resize_xray/chest_xray\\train/PNEUMONIA\\person826_bacteria_2737.jpeg  \n",
              "1                     ./resize_xray/chest_xray\\train/COVID19\\COVID19(327).jpg  \n",
              "2                         ./resize_xray/chest_xray_gan/COVID19\\image_1529.png  \n",
              "3             ./resize_xray/chest_xray\\train/NORMAL\\NORMAL2-IM-1350-0001.jpeg  \n",
              "4                ./resize_xray/chest_xray\\train/NORMAL\\IM-0553-0001-0001.jpeg  \n",
              "...                                                                       ...  \n",
              "15495                           ./resize_xray/chest_xray_gan/TB\\image_468.png  \n",
              "15496  ./resize_xray/chest_xray\\train/PNEUMONIA\\person1711_bacteria_4527.jpeg  \n",
              "15497                     ./resize_xray/chest_xray_gan/COVID19\\image_1294.png  \n",
              "15498                           ./resize_xray/chest_xray_gan/TB\\image_879.png  \n",
              "15499     ./resize_xray/chest_xray\\train/PNEUMONIA\\person77_bacteria_375.jpeg  \n",
              "\n",
              "[15500 rows x 2 columns]"
            ]
          },
          "metadata": {},
          "output_type": "display_data"
        }
      ],
      "source": [
        "#create df for original + diffusion\n",
        "\n",
        "diffusion_train_list = [x for x in diffusion_train_normal]\n",
        "diffusion_train_list.extend([x for x in diffusion_train_covid] + [x for x in diffusion_train_tb])\n",
        "\n",
        "diffusion_df_train = pd.DataFrame(np.concatenate([['Normal']*len(diffusion_train_normal) , ['COVID-19']*len(diffusion_train_covid), ['Tuberculosis']*len(diffusion_train_tb)]), columns = ['class'])\n",
        "diffusion_df_train['image'] = [x for x in diffusion_train_list]\n",
        "\n",
        "diffusion_df_train = pd.concat([og_df_train, diffusion_df_train], ignore_index=True)\n",
        "diffusion_df_train = gan_df_train.sample(frac=1, random_state=42).reset_index(drop=True)\n",
        "\n",
        "print(diffusion_df_train['class'].value_counts())\n",
        "display(diffusion_df_train)"
      ]
    },
    {
      "cell_type": "code",
      "execution_count": null,
      "id": "1f763e93",
      "metadata": {
        "id": "1f763e93"
      },
      "outputs": [],
      "source": [
        "#need to split the train and validation data\n",
        "#ds_train, ds_val,\n",
        "\n",
        "IMG_SIZE = 150\n",
        "BATCH = 32\n",
        "IMG_SHAPE = (IMG_SIZE, IMG_SIZE, 3)\n",
        "\n",
        "\n",
        "\n",
        "base_model = tf.keras.applications.ResNet152V2(\n",
        "    weights='imagenet',\n",
        "    input_shape=(IMG_SIZE, IMG_SIZE, 3),\n",
        "    include_top=False)\n",
        "\n",
        "base_model.trainable = False\n",
        "\n",
        "def get_pretrained():\n",
        "\n",
        "    #Input shape = [width, height, color channels]\n",
        "    inputs = layers.Input(shape=(IMG_SIZE, IMG_SIZE, 3))\n",
        "\n",
        "    x = base_model(inputs)\n",
        "\n",
        "    # Head\n",
        "    x = layers.GlobalAveragePooling2D()(x)\n",
        "    x = layers.Dense(128, activation='relu')(x)\n",
        "    x = layers.Dropout(0.1)(x)\n",
        "\n",
        "    #Final Layer (Output)\n",
        "    output = layers.Dense(1, activation='sigmoid')(x)\n",
        "\n",
        "    model = keras.Model(inputs=[inputs], outputs=output)\n",
        "\n",
        "    return model\n",
        "keras.backend.clear_session()\n",
        "\n",
        "model_pretrained = get_pretrained()\n",
        "model_pretrained.compile(loss='binary_crossentropy'\n",
        "              , optimizer = keras.optimizers.Adam(learning_rate=5e-5), metrics='binary_accuracy')\n",
        "\n",
        "model_pretrained.summary()\n",
        "history = model_pretrained.fit(ds_train,\n",
        "          batch_size = BATCH, epochs = 50,\n",
        "          validation_data=ds_val,\n",
        "          #callbacks=[early_stopping, plateau],\n",
        "          steps_per_epoch=(len(train_df)/BATCH),\n",
        "          validation_steps=(len(val_df)/BATCH))"
      ]
    },
    {
      "cell_type": "code",
      "execution_count": null,
      "id": "8b46a72b",
      "metadata": {
        "id": "8b46a72b"
      },
      "outputs": [],
      "source": [
        "fig, ax = plt.subplots(figsize=(20,8))\n",
        "sns.lineplot(x = history.epoch, y = history.history['loss'])\n",
        "sns.lineplot(x = history.epoch, y = history.history['val_loss'])\n",
        "ax.set_title('Learning Curve (Loss)')\n",
        "ax.set_ylabel('Loss')\n",
        "ax.set_xlabel('Epoch')\n",
        "ax.set_ylim(0, 0.5)\n",
        "ax.legend(['train', 'val'], loc='best')\n",
        "plt.show()"
      ]
    },
    {
      "cell_type": "code",
      "execution_count": null,
      "id": "d04002e7",
      "metadata": {
        "id": "d04002e7"
      },
      "outputs": [],
      "source": [
        "fig, ax = plt.subplots(figsize=(20,8))\n",
        "sns.lineplot(x = history.epoch, y = history.history['binary_accuracy'])\n",
        "sns.lineplot(x = history.epoch, y = history.history['val_binary_accuracy'])\n",
        "ax.set_title('Learning Curve (Accuracy)')\n",
        "ax.set_ylabel('Accuracy')\n",
        "ax.set_xlabel('Epoch')\n",
        "ax.set_ylim(0.80, 1.0)\n",
        "ax.legend(['train', 'val'], loc='best')\n",
        "plt.show()"
      ]
    },
    {
      "cell_type": "code",
      "execution_count": null,
      "id": "1ec296b3",
      "metadata": {
        "id": "1ec296b3"
      },
      "outputs": [],
      "source": [
        "score = model_pretrained.evaluate(ds_val, steps = len(val_df)/BATCH, verbose = 0)\n",
        "print('Val loss:', score[0])\n",
        "print('Val accuracy:', score[1])"
      ]
    },
    {
      "cell_type": "code",
      "execution_count": null,
      "id": "6f21fe92",
      "metadata": {
        "id": "6f21fe92"
      },
      "outputs": [],
      "source": [
        "score = model_pretrained.evaluate(ds_test, steps = len(df_test), verbose = 0)\n",
        "print('Test loss:', score[0])\n",
        "print('Test accuracy:', score[1])"
      ]
    }
  ],
  "metadata": {
    "kernelspec": {
      "display_name": "Python 3",
      "name": "python3"
    },
    "language_info": {
      "codemirror_mode": {
        "name": "ipython",
        "version": 3
      },
      "file_extension": ".py",
      "mimetype": "text/x-python",
      "name": "python",
      "nbconvert_exporter": "python",
      "pygments_lexer": "ipython3",
      "version": "3.10.11"
    },
    "colab": {
      "provenance": [],
      "gpuType": "V28"
    },
    "accelerator": "TPU"
  },
  "nbformat": 4,
  "nbformat_minor": 5
}