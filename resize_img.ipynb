{
 "cells": [
  {
   "cell_type": "code",
   "execution_count": 3,
   "id": "9257f820",
   "metadata": {},
   "outputs": [],
   "source": [
    "import os\n",
    "from PIL import Image\n",
    "\n",
    "# Set paths\n",
    "input_root = './og_xray'       # e.g., \"data/chest_xray\"\n",
    "output_root = './resize_xray'     # e.g., \"data/chest_xray_resized\"\n",
    "target_size = (150, 150)\n",
    "valid_extensions = ('.jpg', '.jpeg', '.png')\n",
    "\n",
    "# Walk through all files and folders\n",
    "for root, dirs, files in os.walk(input_root):\n",
    "    for file in files:\n",
    "        if file.lower().endswith(valid_extensions):\n",
    "            input_path = os.path.join(root, file)\n",
    "\n",
    "            # Recreate the relative folder path in the output directory\n",
    "            relative_path = os.path.relpath(input_path, input_root)\n",
    "            output_path = os.path.join(output_root, relative_path)\n",
    "\n",
    "            # Create the target folder if it doesn't exist\n",
    "            os.makedirs(os.path.dirname(output_path), exist_ok=True)\n",
    "\n",
    "            # Open, resize, and save the image\n",
    "            try:\n",
    "                img = Image.open(input_path).convert(\"RGB\")\n",
    "                img_resized = img.resize(target_size, Image.Resampling.LANCZOS)\n",
    "                img_resized.save(output_path)\n",
    "            except Exception as e:\n",
    "                print(f\"Error processing {input_path}: {e}\")\n"
   ]
  }
 ],
 "metadata": {
  "kernelspec": {
   "display_name": "Python 3",
   "language": "python",
   "name": "python3"
  },
  "language_info": {
   "codemirror_mode": {
    "name": "ipython",
    "version": 3
   },
   "file_extension": ".py",
   "mimetype": "text/x-python",
   "name": "python",
   "nbconvert_exporter": "python",
   "pygments_lexer": "ipython3",
   "version": "3.10.11"
  }
 },
 "nbformat": 4,
 "nbformat_minor": 5
}
