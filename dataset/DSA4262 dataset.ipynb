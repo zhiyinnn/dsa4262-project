{
 "cells": [
  {
   "cell_type": "code",
   "execution_count": null,
   "id": "614adc66",
   "metadata": {},
   "outputs": [],
   "source": [
    "!git clone https://github.com/zhiyinnn/dsa4262-project.git"
   ]
  },
  {
   "cell_type": "code",
   "execution_count": null,
   "id": "35b2354f",
   "metadata": {},
   "outputs": [],
   "source": [
    "import shutil\n",
    "import os\n",
    "\n",
    "import pandas as pd\n",
    "\n",
    "# Define paths\n",
    "repo_name = \"dsa4262-project\"  \n",
    "covid19_folder = os.path.join(os.getcwd(), \"dsa4262-project\", \"COVID19_GENERATED\")\n",
    "normal_folder = os.path.join(os.getcwd(), \"dsa4262-project\", \"NORMAL_GENERATED\") \n",
    "tuberculosis_folder = os.path.join(os.getcwd(), \"dsa4262-project\", \"TUBERCULOSIS_GENERATED\")"
   ]
  },
  {
   "cell_type": "code",
   "execution_count": null,
   "id": "b9c06974",
   "metadata": {},
   "outputs": [],
   "source": [
    "covid19_dir = \"C:/Users/jialu/DSA4262/COVID19_GENERATED\" #Change to your local directory\n",
    "\n",
    "\n",
    "for file in os.listdir(covid19_folder):\n",
    "    src = os.path.join(covid19_folder, file)\n",
    "    dst = os.path.join(covid19_dir, file)\n",
    "    shutil.move(src, dst)\n",
    "    \n",
    "print(f\"All images have been moved to {covid19_dir}\")\n",
    "\n",
    "\n",
    "normal_dir = \"C:/Users/jialu/DSA4262/NORMAL_GENERATED\" #Change to your local directory\n",
    "    \n",
    "for file in os.listdir(normal_folder):\n",
    "    src = os.path.join(normal_folder, file)\n",
    "    dst = os.path.join(normal_dir, file)\n",
    "    shutil.move(src, dst)\n",
    "    \n",
    "print(f\"All images have been moved to {normal_dir}\")\n",
    "\n",
    "tuberculosis_dir = \"C:/Users/jialu/DSA4262/TUBERCULOSIS_GENERATED\" #Change to your local directory\n",
    "    \n",
    "for file in os.listdir(tuberculosis_folder):\n",
    "    src = os.path.join(tuberculosis_folder, file)\n",
    "    dst = os.path.join(tuberculosis_dir, file)\n",
    "    shutil.move(src, dst)\n",
    "    \n",
    "print(f\"All images have been moved to {tuberculosis_dir}\")\n",
    "\n"
   ]
  },
  {
   "cell_type": "code",
   "execution_count": null,
   "id": "4bb3cf7f",
   "metadata": {},
   "outputs": [],
   "source": [
    "dataset_path = \"C:/Users/jialu/DSA4262\"  # Replace with your local path where the folders with images are stored\n"
   ]
  },
  {
   "cell_type": "code",
   "execution_count": null,
   "id": "8ba0d4e7",
   "metadata": {},
   "outputs": [],
   "source": [
    "data = []  \n",
    "\n",
    "for label in os.listdir(dataset_path):\n",
    "    label_path = os.path.join(dataset_path, label)\n",
    "\n",
    "    if os.path.isdir(label_path):  \n",
    "        for image_name in os.listdir(label_path):\n",
    "            image_path = os.path.join(label_path, image_name)\n",
    "            data.append([label, image_path])  \n"
   ]
  },
  {
   "cell_type": "code",
   "execution_count": null,
   "id": "02f05e3a",
   "metadata": {},
   "outputs": [],
   "source": [
    "df = pd.DataFrame(data, columns=[\"Label\", \"Image_Path\"])\n",
    "print(df.tail())\n"
   ]
  },
  {
   "cell_type": "code",
   "execution_count": null,
   "id": "10a4391b",
   "metadata": {},
   "outputs": [],
   "source": [
    "df.to_csv(\"dataset.csv\", index=False)\n",
    "df = pd.read_csv(\"image_dataset.csv\")"
   ]
  },
  {
   "cell_type": "code",
   "execution_count": null,
   "id": "1f763e93",
   "metadata": {},
   "outputs": [],
   "source": []
  }
 ],
 "metadata": {
  "kernelspec": {
   "display_name": "Python 3 (ipykernel)",
   "language": "python",
   "name": "python3"
  },
  "language_info": {
   "codemirror_mode": {
    "name": "ipython",
    "version": 3
   },
   "file_extension": ".py",
   "mimetype": "text/x-python",
   "name": "python",
   "nbconvert_exporter": "python",
   "pygments_lexer": "ipython3",
   "version": "3.9.13"
  }
 },
 "nbformat": 4,
 "nbformat_minor": 5
}
